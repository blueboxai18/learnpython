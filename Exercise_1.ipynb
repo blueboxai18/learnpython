{
  "nbformat": 4,
  "nbformat_minor": 0,
  "metadata": {
    "colab": {
      "name": "Exercise 1.ipynb",
      "version": "0.3.2",
      "provenance": []
    },
    "kernelspec": {
      "display_name": "Python 3",
      "language": "python",
      "name": "python3"
    }
  },
  "cells": [
    {
      "metadata": {
        "id": "kBedodYdnDio",
        "colab_type": "text"
      },
      "cell_type": "markdown",
      "source": [
        "This is sample script developed to highlight Python libraries - numpy, pandas, and matplotlin"
      ]
    },
    {
      "metadata": {
        "id": "bdvWFfhSnDip",
        "colab_type": "code",
        "colab": {}
      },
      "cell_type": "code",
      "source": [
        "import numpy as np\n",
        "import pandas as pd\n",
        "import matplotlib.pyplot as plt"
      ],
      "execution_count": 0,
      "outputs": []
    },
    {
      "metadata": {
        "id": "iFF8mxcFnfsd",
        "colab_type": "text"
      },
      "cell_type": "markdown",
      "source": [
        "Below is definition of a sample code that could be used many times."
      ]
    },
    {
      "metadata": {
        "id": "zkrqeIEGn6xS",
        "colab_type": "text"
      },
      "cell_type": "markdown",
      "source": [
        "# What do you think happens when you execute the code?"
      ]
    },
    {
      "metadata": {
        "id": "FIOq2OCanDiu",
        "colab_type": "code",
        "colab": {}
      },
      "cell_type": "code",
      "source": [
        "def random_square():\n",
        "    \"\"\"\n",
        "        Computes the coordinates of a random square\n",
        "    \"\"\"\n",
        "    x0, y0, length, angle = np.random.rand(4)\n",
        "    angle *= np.pi / 2. #(because we want it between 0 and 90°)\n",
        "    x1, y1 = length * np.cos(angle) + x0, length * np.sin(angle) + y0\n",
        "    angle += np.pi/4.\n",
        "    x2, y2 = np.sqrt(2) * length * np.cos(angle) + x0, np.sqrt(2) * length * np.sin(angle) + y0\n",
        "    angle += np.pi/4.\n",
        "    x3, y3 = length * np.cos(angle) + x0, length * np.sin(angle) + y0\n",
        "    return x0, y0, x1, y1, x2, y2, x3, y3, length**2"
      ],
      "execution_count": 0,
      "outputs": []
    },
    {
      "metadata": {
        "id": "lWuEevL_nDiy",
        "colab_type": "code",
        "colab": {}
      },
      "cell_type": "code",
      "source": [
        "def displaySquare(x0, y0, x1, y1, x2, y2, x3, y3):\n",
        "    \"\"\"\n",
        "        Displays the square\n",
        "    \"\"\"\n",
        "    plt.figure()\n",
        "    plt.axis('equal') # To avoid deformation\n",
        "    plt.plot([x0, x1, x2, x3, x0], [y0, y1, y2, y3, y0])\n",
        "    plt.show()"
      ],
      "execution_count": 0,
      "outputs": []
    },
    {
      "metadata": {
        "id": "GYPjn1Uynsgp",
        "colab_type": "text"
      },
      "cell_type": "markdown",
      "source": [
        "Function defined above is being used to draw test rectangles"
      ]
    },
    {
      "metadata": {
        "id": "E9XH0WVtnDi2",
        "colab_type": "code",
        "colab": {}
      },
      "cell_type": "code",
      "source": [
        "# Test\n",
        "x0, y0, x1, y1, x2, y2, x3, y3, area = random_square()\n",
        "displaySquare(x0, y0, x1, y1, x2, y2, x3, y3)"
      ],
      "execution_count": 0,
      "outputs": []
    },
    {
      "metadata": {
        "id": "1Ky0cFyHnDi5",
        "colab_type": "code",
        "colab": {}
      },
      "cell_type": "code",
      "source": [
        "# Number in the final dataset\n",
        "number_square = 10**3"
      ],
      "execution_count": 0,
      "outputs": []
    },
    {
      "metadata": {
        "id": "7cpfYSuqnDi9",
        "colab_type": "code",
        "colab": {}
      },
      "cell_type": "code",
      "source": [
        "labels = ['x0', 'y0', 'x1', 'y1', 'x2', 'y2', 'x3', 'y3', 'area']\n",
        "squares = [random_square() for _ in range(number_square)]"
      ],
      "execution_count": 0,
      "outputs": []
    },
    {
      "metadata": {
        "id": "uQwy8LLCoUWX",
        "colab_type": "text"
      },
      "cell_type": "markdown",
      "source": [
        "## What happens when you execute the code below?"
      ]
    },
    {
      "metadata": {
        "id": "CTF5cn_znDjB",
        "colab_type": "code",
        "colab": {}
      },
      "cell_type": "code",
      "source": [
        "# Create the dataframe and save it\n",
        "df = pd.DataFrame.from_records(squares, columns=labels)\n",
        "df.to_csv(\"data/squares.csv\", index_label=False)"
      ],
      "execution_count": 0,
      "outputs": []
    },
    {
      "metadata": {
        "id": "5as0DRZ8nDjF",
        "colab_type": "code",
        "colab": {}
      },
      "cell_type": "code",
      "source": [
        ""
      ],
      "execution_count": 0,
      "outputs": []
    }
  ]
}